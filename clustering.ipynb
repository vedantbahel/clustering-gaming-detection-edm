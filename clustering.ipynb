{
 "cells": [
  {
   "cell_type": "markdown",
   "metadata": {},
   "source": [
    "# Clustering Analysis (Gaming Detection) [Semi Supervised]"
   ]
  },
  {
   "cell_type": "code",
   "execution_count": 1,
   "metadata": {},
   "outputs": [],
   "source": [
    "#importing libraries\n",
    "import pandas as pd\n",
    "import numpy as np\n",
    "from sklearn.cluster import KMeans\n",
    "from sklearn.mixture import GaussianMixture\n",
    "import scipy.stats\n",
    "from array import array\n",
    "from pandasql import sqldf\n",
    "import seaborn as sns\n",
    "import matplotlib.pyplot as plt \n",
    "from sklearn import preprocessing"
   ]
  },
  {
   "cell_type": "code",
   "execution_count": 2,
   "metadata": {},
   "outputs": [],
   "source": [
    "#df= pd.read_csv(\"only_input.csv\")\n",
    "#normalized_df= preprocessing.scale(preprocessing.normalize(df))\n",
    "#pd.DataFrame(normalized_df).to_csv(\"normal_input.csv\")\n",
    "df_norm= pd.read_csv(\"normal_input.csv\")"
   ]
  },
  {
   "cell_type": "code",
   "execution_count": 9,
   "metadata": {},
   "outputs": [
    {
     "data": {
      "text/plain": [
       "<matplotlib.axes._subplots.AxesSubplot at 0x1e303a6b9b0>"
      ]
     },
     "execution_count": 9,
     "metadata": {},
     "output_type": "execute_result"
    },
    {
     "data": {
      "image/png": "[encoded data removed]",
      "text/plain": [
       "<Figure size 432x288 with 2 Axes>"
      ]
     },
     "metadata": {
      "needs_background": "light"
     },
     "output_type": "display_data"
    }
   ],
   "source": [
    "corrmat= df_norm.corr()\n",
    "sns.heatmap(corrmat, cmap =\"YlGnBu\", linewidths = 0.1) "
   ]
  },
  {
   "cell_type": "code",
   "execution_count": 17,
   "metadata": {},
   "outputs": [],
   "source": [
    "#Function to divide clusters \n",
    "def makecluster(n, df):\n",
    "    a=n\n",
    "    s= df.shape\n",
    "    size= round(s[0]/n)\n",
    "    frames = [df.iloc[j*size:(j+1)*size].copy() for j in range(n+1)]\n",
    "    \n",
    "    #for i in range(n):\n",
    "        #(frames[i]).to_excel(\"divdata\" + str(a+1) + str(i) +\".xlsx\")\n",
    "        \n",
    "    a= []\n",
    "    for i in range(n):\n",
    "        list1=[]\n",
    "        for j in range(0,26):\n",
    "            list1.append(frames[i][df.columns[j]].mean())\n",
    "        a.append(list1)\n",
    "    a.append([0.155, -0.187, -0.115, -0.115, -0.0798, -0.0943, -0.107, -0.149, 0.00183, 0.00807, 0.21, -0.0623, -0.0964, -0.0112, -0.0806, -0.109, -0.169, -0.0798, -0.112, -0.168, -0.0943, 0.155, -0.0857, -0.134, -0.222, 0.154])\n",
    "    return(a)"
   ]
  },
  {
   "cell_type": "markdown",
   "metadata": {},
   "source": [
    "## KMeans "
   ]
  },
  {
   "cell_type": "code",
   "execution_count": 18,
   "metadata": {},
   "outputs": [],
   "source": [
    "def kmeansclus(n1, n2, file0, dfi, dfo):\n",
    "    for i in range (n1, n2):\n",
    "        cents= np.array(makecluster(i-1,file0))\n",
    "        km = KMeans(n_clusters=i, init=cents, max_iter=1, n_init=1)\n",
    "        seededlabel= km.fit_predict(dfi)\n",
    "        dfo[\"K\"+str(i)]= seededlabel"
   ]
  },
  {
   "cell_type": "code",
   "execution_count": 19,
   "metadata": {},
   "outputs": [],
   "source": [
    "dfO= pd.read_excel(\"lables.xlsx\")\n",
    "file0= pd.read_csv(\"only_not_gaming.csv\")\n",
    "kmeansclus(2, 10, file0, df_norm, dfO)"
   ]
  },
  {
   "cell_type": "code",
   "execution_count": 20,
   "metadata": {},
   "outputs": [],
   "source": [
    "dfO.to_excel(\"Knorm_labels.xlsx\")"
   ]
  },
  {
   "cell_type": "markdown",
   "metadata": {},
   "source": [
    "# GMM"
   ]
  },
  {
   "cell_type": "code",
   "execution_count": 21,
   "metadata": {},
   "outputs": [],
   "source": [
    "def gmmclus(n1, n2, file0, dfi, dfo):\n",
    "    for i in range (n1, n2):\n",
    "        cents= np.array(makecluster(i-1,file0))\n",
    "        gmm = GaussianMixture(n_components=i, means_init=cents)\n",
    "        gmm.fit(dfi)\n",
    "        seededlabel= gmm.predict(dfi)\n",
    "        dfo[\"G\"+str(i)]= seededlabel"
   ]
  },
  {
   "cell_type": "code",
   "execution_count": 22,
   "metadata": {},
   "outputs": [],
   "source": [
    "gmmclus(2, 10, file0, df_norm, dfO)"
   ]
  },
  {
   "cell_type": "code",
   "execution_count": 23,
   "metadata": {},
   "outputs": [],
   "source": [
    "dfO.to_excel(\"Gnorm_labels.xlsx\")"
   ]
  },
  {
   "cell_type": "markdown",
   "metadata": {},
   "source": [
    "# Heat-Maps"
   ]
  },
  {
   "cell_type": "code",
   "execution_count": 27,
   "metadata": {},
   "outputs": [],
   "source": [
    "def heatmapplot(df, n1, n2):\n",
    "    n2=n2+1\n",
    "    for i in range(n1, n2):\n",
    "        print(\"In Progress\")\n",
    "        a=[]\n",
    "        for j in range(0, i):\n",
    "            q= \"SELECT avg(0), avg(1), avg(2), avg(3), avg(4), avg(5), avg(6), avg(7), avg(8), avg(9), avg(10), avg(11), avg(12), avg(13), avg(14), avg(15), avg(16), avg(17), avg(18), avg(19), avg(20), avg(21), avg(22),avg(23), avg(24), avg(25) FROM df WHERE K\" + str(i) + \"=\" + str(j)\n",
    "            que= sqldf(q)\n",
    "            a.append(que.iloc[0].values)\n",
    "            print(\"In Progress\")\n",
    "        sns.heatmap(a)\n",
    "        plt.title(\"K\"+str(i))\n",
    "        plt.show()\n",
    "        plt.savefig(\"K\"+str(i)+\".png\")\n",
    "        print(\"Saved: Plot for K\"+str(i))"
   ]
  },
  {
   "cell_type": "code",
   "execution_count": 28,
   "metadata": {},
   "outputs": [],
   "source": [
    "df_fulldata = pd.read_excel(\"full_datat.xlsx\")"
   ]
  },
  {
   "cell_type": "code",
   "execution_count": 29,
   "metadata": {},
   "outputs": [
    {
     "name": "stdout",
     "output_type": "stream",
     "text": [
      "In Progress\n",
      "In Progress\n",
      "In Progress\n",
      "In Progress\n"
     ]
    },
    {
     "data": {
      "image/png": "[encoded data removed]",
      "text/plain": [
       "<Figure size 432x288 with 2 Axes>"
      ]
     },
     "metadata": {
      "needs_background": "light"
     },
     "output_type": "display_data"
    },
    {
     "name": "stdout",
     "output_type": "stream",
     "text": [
      "Saved: Plot for K3\n",
      "In Progress\n",
      "In Progress\n",
      "In Progress\n",
      "In Progress\n",
      "In Progress\n"
     ]
    },
    {
     "data": {
      "image/png": "[encoded data removed]",
      "text/plain": [
       "<Figure size 432x288 with 2 Axes>"
      ]
     },
     "metadata": {
      "needs_background": "light"
     },
     "output_type": "display_data"
    },
    {
     "name": "stdout",
     "output_type": "stream",
     "text": [
      "Saved: Plot for K4\n",
      "In Progress\n",
      "In Progress\n",
      "In Progress\n",
      "In Progress\n",
      "In Progress\n",
      "In Progress\n"
     ]
    },
    {
     "data": {
      "image/png": "[encoded data removed]",
      "text/plain": [
       "<Figure size 432x288 with 2 Axes>"
      ]
     },
     "metadata": {
      "needs_background": "light"
     },
     "output_type": "display_data"
    },
    {
     "name": "stdout",
     "output_type": "stream",
     "text": [
      "Saved: Plot for K5\n",
      "In Progress\n",
      "In Progress\n",
      "In Progress\n",
      "In Progress\n",
      "In Progress\n",
      "In Progress\n",
      "In Progress\n"
     ]
    },
    {
     "data": {
      "image/png": "[encoded data removed]",
      "text/plain": [
       "<Figure size 432x288 with 2 Axes>"
      ]
     },
     "metadata": {
      "needs_background": "light"
     },
     "output_type": "display_data"
    },
    {
     "name": "stdout",
     "output_type": "stream",
     "text": [
      "Saved: Plot for K6\n"
     ]
    },
    {
     "data": {
      "text/plain": [
       "<Figure size 432x288 with 0 Axes>"
      ]
     },
     "metadata": {},
     "output_type": "display_data"
    }
   ],
   "source": [
    "heatmapplot(df_fulldata, 3,6)"
   ]
  },
  {
   "cell_type": "markdown",
   "metadata": {},
   "source": [
    "## Hiererchical Clustering "
   ]
  },
  {
   "cell_type": "code",
   "execution_count": 7,
   "metadata": {},
   "outputs": [],
   "source": [
    "import scipy\n",
    "from scipy.cluster import hierarchy\n",
    "from sklearn.cluster import DBSCAN\n",
    "from sklearn.cluster import AgglomerativeClustering\n",
    "dfO= pd.read_excel(\"lables.xlsx\")"
   ]
  },
  {
   "cell_type": "code",
   "execution_count": 6,
   "metadata": {},
   "outputs": [],
   "source": [
    "for i in range(2, 10):\n",
    "    cluster = AgglomerativeClustering(n_clusters=i, affinity='euclidean', linkage='ward')  \n",
    "    label = cluster.fit_predict(df_norm)\n",
    "    dfO[\"HA\"+str(i)]= label\n",
    "dfO.to_excel(\"HA.xlsx\")"
   ]
  },
  {
   "cell_type": "code",
   "execution_count": 8,
   "metadata": {},
   "outputs": [],
   "source": [
    "for i in range(2, 10):\n",
    "    db_default = DBSCAN(eps = 0.0375, min_samples = i).fit(df_norm) \n",
    "    dfO[\"DB\"+str(i)] = db_default.labels_ \n",
    "dfO.to_excel(\"DB.xlsx\")"
   ]
  },
  {
   "cell_type": "code",
   "execution_count": null,
   "metadata": {},
   "outputs": [],
   "source": []
  }
 ],
 "metadata": {
  "kernelspec": {
   "display_name": "Python 3",
   "language": "python",
   "name": "python3"
  },
  "language_info": {
   "codemirror_mode": {
    "name": "ipython",
    "version": 3
   },
   "file_extension": ".py",
   "mimetype": "text/x-python",
   "name": "python",
   "nbconvert_exporter": "python",
   "pygments_lexer": "ipython3",
   "version": "3.6.8"
  }
 },
 "nbformat": 4,
 "nbformat_minor": 2
}
